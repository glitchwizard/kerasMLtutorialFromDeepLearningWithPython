{
 "cells": [
  {
   "cell_type": "markdown",
   "id": "impressed-specific",
   "metadata": {},
   "source": [
    "# IMDB dataset from Deep Learning with Python (Manning book)\n",
    "\n",
    "This is learning Keras directly taking the IMDB data set from keras, and sorting it out in various ways.\n",
    "\n",
    "First we may need to set it up to possibly switch from GPU to CPU, I ran into a problem where my GPU ran out of memory sometimes, so switching to CPU isn't ideal, but it's better than no compute at all.\n",
    "   "
   ]
  },
  {
   "cell_type": "code",
   "execution_count": 1,
   "id": "organized-import",
   "metadata": {},
   "outputs": [],
   "source": [
    "# Uncomment below this line if you need to turn on CPU. Comment it out again if you want GPU\n",
    "# import os\n",
    "# os.environ[\"CUDA_DEVICE_ORDER\"] = \"PCI_BUS_ID\"   # see issue #152\n",
    "# os.environ[\"CUDA_VISIBLE_DEVICES\"] = \"-1\""
   ]
  },
  {
   "cell_type": "markdown",
   "id": "combined-construction",
   "metadata": {},
   "source": [
    "## Loading IMDB dataset \n",
    "\n",
    "First we have to load the IMDB data set from the keras library. If we want to see the actual words, uncomment and print out the second section in the code below."
   ]
  },
  {
   "cell_type": "code",
   "execution_count": 2,
   "id": "studied-scoop",
   "metadata": {},
   "outputs": [
    {
     "name": "stderr",
     "output_type": "stream",
     "text": [
      "<__array_function__ internals>:5: VisibleDeprecationWarning: Creating an ndarray from ragged nested sequences (which is a list-or-tuple of lists-or-tuples-or ndarrays with different lengths or shapes) is deprecated. If you meant to do this, you must specify 'dtype=object' when creating the ndarray\n",
      "c:\\users\\hobbes\\source\\repos\\kerasmltutorialfromdeeplearningwithpython\\venv\\lib\\site-packages\\tensorflow\\python\\keras\\datasets\\imdb.py:159: VisibleDeprecationWarning: Creating an ndarray from ragged nested sequences (which is a list-or-tuple of lists-or-tuples-or ndarrays with different lengths or shapes) is deprecated. If you meant to do this, you must specify 'dtype=object' when creating the ndarray\n",
      "  x_train, y_train = np.array(xs[:idx]), np.array(labels[:idx])\n",
      "c:\\users\\hobbes\\source\\repos\\kerasmltutorialfromdeeplearningwithpython\\venv\\lib\\site-packages\\tensorflow\\python\\keras\\datasets\\imdb.py:160: VisibleDeprecationWarning: Creating an ndarray from ragged nested sequences (which is a list-or-tuple of lists-or-tuples-or ndarrays with different lengths or shapes) is deprecated. If you meant to do this, you must specify 'dtype=object' when creating the ndarray\n",
      "  x_test, y_test = np.array(xs[idx:]), np.array(labels[idx:])\n"
     ]
    }
   ],
   "source": [
    "# load IMDB dataset in keras\n",
    "from keras.datasets import imdb\n",
    "\n",
    "(train_data, train_labels), (test_data, test_labels) = imdb.load_data(num_words=10000)\n",
    "\n",
    "# if we want to see what the actual words are, uncomment this and use this code\n",
    "# word_index = imdb.get_word_index()\n",
    "# reverse_word_index = dict([(value, key) for (key,value) in word_index.items()])\n",
    "# decoded_review = ' '.join(reverse_word_index.get(i - 3, '?') for i in train_data[0])"
   ]
  },
  {
   "cell_type": "markdown",
   "id": "arbitrary-graduation",
   "metadata": {},
   "source": [
    "## Prepping the data\n",
    "\n",
    "There are a few ways to prep the data, because each word is turned into an integer value it can be represented a few ways, for this example we're going to encode the integer sequences into a binary matrix. The location on the matrix, if it's on or off, will represent the word, or words."
   ]
  },
  {
   "cell_type": "code",
   "execution_count": 3,
   "id": "governing-bicycle",
   "metadata": {},
   "outputs": [],
   "source": [
    "# Encode the integer sequences into a binary matrix\n",
    "import numpy as np\n",
    "\n",
    "\n",
    "def vectorize_sequences(sequences, dimension=10000):\n",
    "    results = np.zeros((len(sequences), dimension))\n",
    "    for i, sequence in enumerate(sequences):\n",
    "        results[i, sequence] = 1.\n",
    "    return results\n",
    "\n",
    "\n",
    "x_train = vectorize_sequences(train_data)\n",
    "x_test = vectorize_sequences(test_data)\n",
    "\n",
    "y_train = np.asarray(train_labels).astype('float32')\n",
    "y_test = np.asarray(test_labels).astype('float32')"
   ]
  },
  {
   "cell_type": "markdown",
   "id": "independent-copyright",
   "metadata": {},
   "source": [
    "## Define the model by setting up the layers\n",
    "\n",
    "For now we'll use .Sequential(), but we can dig in later to more detailed settings using the functional API. Just as an example, here's what these same layers would look like using the functional API: \n",
    "\n",
    "```\n",
    "input_tensor = layers.Input(shape=(784,))\n",
    "x = layers.Dense(32, activation='relu')(input_tensor)\n",
    "output_tensor = layers.Dense(10, activation='softmax')(x)\n",
    "\n",
    "model = models.Model(inputs=input_tensor, outputs=output_tensor)\n",
    "```"
   ]
  },
  {
   "cell_type": "code",
   "execution_count": 4,
   "id": "humanitarian-queens",
   "metadata": {},
   "outputs": [],
   "source": [
    "from keras import models\n",
    "from keras import layers\n",
    "\n",
    "# Define the model by setting up the layers,\n",
    "model = models.Sequential()\n",
    "model.add(layers.Dense(16, activation='relu', input_shape=(10000,)))\n",
    "model.add(layers.Dense(16, activation='relu'))\n",
    "model.add(layers.Dense(1, activation='sigmoid'))"
   ]
  },
  {
   "cell_type": "markdown",
   "id": "apparent-technician",
   "metadata": {},
   "source": [
    "## Compile the model, and configure the optimizer\n",
    "\n",
    "Something to note here, the configurations shown below are only if we want to actually dig in to the settings for things like `optimizer`, `loss`, or `metrics`. If we want to use default settings, just use strings like so: \n",
    "```\n",
    "model.compile(optimizer='rmsprop',\n",
    "              loss='binary_crossentropy',\n",
    "              metrics=['accuracy'])\n",
    "```"
   ]
  },
  {
   "cell_type": "code",
   "execution_count": 5,
   "id": "forty-decimal",
   "metadata": {},
   "outputs": [],
   "source": [
    "from keras import optimizers, losses, metrics\n",
    "\n",
    "model.compile(optimizer=optimizers.RMSprop(lr=0.001),\n",
    "              loss=losses.binary_crossentropy,\n",
    "              metrics=[metrics.binary_accuracy])"
   ]
  },
  {
   "cell_type": "markdown",
   "id": "solid-password",
   "metadata": {},
   "source": [
    "## Training Validation\n",
    "\n",
    "Ok so here's something I still need to dig more into, validating the training. Basically you set aside a small portion of your training data to use as validation that the trainin was actually worth anything. The interesting thing though is that this can lead of overoptimization. We'll get more into that in a later section though, but sometimes too many epochs, or certain settings can wind up detrimental to the expected outcome.\n",
    "\n",
    "In the code below we're going to set aside 10,000 samples for validation"
   ]
  },
  {
   "cell_type": "code",
   "execution_count": 6,
   "id": "brutal-ceremony",
   "metadata": {},
   "outputs": [
    {
     "name": "stdout",
     "output_type": "stream",
     "text": [
      "Epoch 1/20\n",
      "30/30 [==============================] - 4s 83ms/step - loss: 0.6142 - binary_accuracy: 0.6780 - val_loss: 0.3844 - val_binary_accuracy: 0.8717\n",
      "Epoch 2/20\n",
      "30/30 [==============================] - 1s 29ms/step - loss: 0.3250 - binary_accuracy: 0.9006 - val_loss: 0.3078 - val_binary_accuracy: 0.8820\n",
      "Epoch 3/20\n",
      "30/30 [==============================] - 1s 29ms/step - loss: 0.2279 - binary_accuracy: 0.9284 - val_loss: 0.2786 - val_binary_accuracy: 0.8933\n",
      "Epoch 4/20\n",
      "30/30 [==============================] - 1s 29ms/step - loss: 0.1744 - binary_accuracy: 0.9485 - val_loss: 0.2835 - val_binary_accuracy: 0.8851\n",
      "Epoch 5/20\n",
      "30/30 [==============================] - 1s 30ms/step - loss: 0.1394 - binary_accuracy: 0.9597 - val_loss: 0.3208 - val_binary_accuracy: 0.8723\n",
      "Epoch 6/20\n",
      "30/30 [==============================] - 1s 30ms/step - loss: 0.1179 - binary_accuracy: 0.9651 - val_loss: 0.2995 - val_binary_accuracy: 0.8856\n",
      "Epoch 7/20\n",
      "30/30 [==============================] - 1s 30ms/step - loss: 0.0924 - binary_accuracy: 0.9746 - val_loss: 0.3053 - val_binary_accuracy: 0.8839\n",
      "Epoch 8/20\n",
      "30/30 [==============================] - 1s 29ms/step - loss: 0.0730 - binary_accuracy: 0.9824 - val_loss: 0.3268 - val_binary_accuracy: 0.8858\n",
      "Epoch 9/20\n",
      "30/30 [==============================] - 1s 29ms/step - loss: 0.0595 - binary_accuracy: 0.9874 - val_loss: 0.3502 - val_binary_accuracy: 0.8816\n",
      "Epoch 10/20\n",
      "30/30 [==============================] - 1s 29ms/step - loss: 0.0478 - binary_accuracy: 0.9902 - val_loss: 0.3708 - val_binary_accuracy: 0.8806\n",
      "Epoch 11/20\n",
      "30/30 [==============================] - 1s 30ms/step - loss: 0.0359 - binary_accuracy: 0.9941 - val_loss: 0.4213 - val_binary_accuracy: 0.8742\n",
      "Epoch 12/20\n",
      "30/30 [==============================] - 1s 30ms/step - loss: 0.0303 - binary_accuracy: 0.9957 - val_loss: 0.4278 - val_binary_accuracy: 0.8761\n",
      "Epoch 13/20\n",
      "30/30 [==============================] - 1s 29ms/step - loss: 0.0206 - binary_accuracy: 0.9978 - val_loss: 0.4837 - val_binary_accuracy: 0.8710\n",
      "Epoch 14/20\n",
      "30/30 [==============================] - 1s 29ms/step - loss: 0.0148 - binary_accuracy: 0.9988 - val_loss: 0.5169 - val_binary_accuracy: 0.8629\n",
      "Epoch 15/20\n",
      "30/30 [==============================] - 1s 29ms/step - loss: 0.0120 - binary_accuracy: 0.9991 - val_loss: 0.5314 - val_binary_accuracy: 0.8710\n",
      "Epoch 16/20\n",
      "30/30 [==============================] - 1s 29ms/step - loss: 0.0081 - binary_accuracy: 0.9995 - val_loss: 0.5679 - val_binary_accuracy: 0.8619\n",
      "Epoch 17/20\n",
      "30/30 [==============================] - 1s 30ms/step - loss: 0.0062 - binary_accuracy: 0.9998 - val_loss: 0.5942 - val_binary_accuracy: 0.8697\n",
      "Epoch 18/20\n",
      "30/30 [==============================] - 1s 30ms/step - loss: 0.0039 - binary_accuracy: 0.9998 - val_loss: 0.6889 - val_binary_accuracy: 0.8636\n",
      "Epoch 19/20\n",
      "30/30 [==============================] - 1s 29ms/step - loss: 0.0041 - binary_accuracy: 0.9999 - val_loss: 0.6558 - val_binary_accuracy: 0.8659\n",
      "Epoch 20/20\n",
      "30/30 [==============================] - 1s 28ms/step - loss: 0.0022 - binary_accuracy: 0.9999 - val_loss: 0.6859 - val_binary_accuracy: 0.8675\n",
      "\n",
      "History Dictionary Keys: dict_keys(['loss', 'binary_accuracy', 'val_loss', 'val_binary_accuracy']) \n",
      "\n"
     ]
    }
   ],
   "source": [
    "# Set aside samples for monitoring accuracy\n",
    "x_val = x_train[:10000]\n",
    "partial_x_train = x_train[10000:]\n",
    "y_val = y_train[:10000]\n",
    "partial_y_train = y_train[10000:]\n",
    "\n",
    "history = model.fit(partial_x_train,\n",
    "                    partial_y_train,\n",
    "                    epochs=20,\n",
    "                    batch_size=512,\n",
    "                    validation_data=(x_val, y_val)\n",
    "                    )\n",
    "\n",
    "history_dict = history.history\n",
    "print('\\nHistory Dictionary Keys:', history_dict.keys(), '\\n')"
   ]
  },
  {
   "cell_type": "markdown",
   "id": "criminal-envelope",
   "metadata": {},
   "source": [
    "## Plot the training and validation loss\n",
    "\n",
    "Just so we can get a visual sense of what's actually happening with our training model, let's plot it's loss per epoch over time. "
   ]
  },
  {
   "cell_type": "code",
   "execution_count": 7,
   "id": "hindu-shell",
   "metadata": {},
   "outputs": [
    {
     "data": {
      "image/png": "[encoded data removed]",
      "text/plain": [
       "<Figure size 432x288 with 1 Axes>"
      ]
     },
     "metadata": {
      "needs_background": "light"
     },
     "output_type": "display_data"
    }
   ],
   "source": [
    "# Plotting the training and validation loss\n",
    "import matplotlib.pyplot as plt\n",
    "\n",
    "loss_values = history_dict['loss']\n",
    "val_loss_values = history_dict['val_loss']\n",
    "\n",
    "epochs = range(1, len(history_dict['binary_accuracy']) + 1)\n",
    "\n",
    "plt.plot(epochs, loss_values, 'bo', label='Training Loss')\n",
    "plt.plot(epochs, val_loss_values, 'b', label='Validation Loss')\n",
    "plt.title('Training and Validation loss')\n",
    "plt.xlabel('Epochs')\n",
    "plt.ylabel('Loss')\n",
    "plt.legend()\n",
    "\n",
    "plt.show()"
   ]
  },
  {
   "cell_type": "markdown",
   "id": "civil-witch",
   "metadata": {},
   "source": [
    "## Plot the training and validation accuracy\n",
    "\n",
    "This is where we'll actually see the problem of overoptimizing, giving us less accuracy as the model continues to 'learn'"
   ]
  },
  {
   "cell_type": "code",
   "execution_count": 8,
   "id": "monetary-heath",
   "metadata": {},
   "outputs": [
    {
     "data": {
      "image/png": "[encoded data removed]",
      "text/plain": [
       "<Figure size 432x288 with 1 Axes>"
      ]
     },
     "metadata": {
      "needs_background": "light"
     },
     "output_type": "display_data"
    }
   ],
   "source": [
    "# Plotting the training and validation accuracy\n",
    "plt.clf()\n",
    "acc_values = history_dict['binary_accuracy']\n",
    "val_acc_values = history_dict['val_binary_accuracy']\n",
    "plt.plot(epochs, acc_values, 'bo', label='Training Accuracy')\n",
    "plt.plot(epochs, val_acc_values, 'b', label='Validation Accuracy')\n",
    "plt.xlabel('Epochs')\n",
    "plt.ylabel('Accuracy')\n",
    "plt.legend()\n",
    "\n",
    "plt.show()"
   ]
  },
  {
   "cell_type": "markdown",
   "id": "virgin-immigration",
   "metadata": {},
   "source": [
    "## Preventing Overoptimization\n",
    "\n",
    "Because we see a loss in accuracy around the 4th epoch, we'll stop the training at that point so we maximize the optimization. Also as an experiment, we can add layers and mess with the hidden unit settings as well. The original settings are:\n",
    "```\n",
    "#Retraining a model from scratch, to see what it looks like to prevent overtraining\n",
    "model = models.Sequential()\n",
    "model.add(layers.Dense(16, activation='relu', input_shape=(10000,)))\n",
    "model.add(layers.Dense(16, activation='relu'))\n",
    "model.add(layers.Dense(1, activation='sigmoid'))\n",
    "\n",
    "model.compile(optimizer='rmsprop',\n",
    "              loss='binary_crossentropy',\n",
    "              metrics=['accuracy'])\n",
    "\n",
    "model.fit(x_train, y_train, epochs=4, batch_size=512)\n",
    "results = model.evaluate(x_test, y_test)\n",
    "print('\\nResults:', results)\n",
    "```\n",
    "\n",
    "Below might look different, just trying out different settings to get a feel for how optimization is affected. \n",
    "\n",
    "This may be adding more layers, tweaking the hidden units, using different optimizers or activations."
   ]
  },
  {
   "cell_type": "code",
   "execution_count": null,
   "id": "wireless-contribution",
   "metadata": {},
   "outputs": [
    {
     "name": "stdout",
     "output_type": "stream",
     "text": [
      "--0--\n",
      "Epoch 1/4\n",
      "49/49 [==============================] - 2s 20ms/step - loss: 0.4913 - accuracy: 0.7579\n",
      "Epoch 2/4\n",
      "49/49 [==============================] - 1s 20ms/step - loss: 0.2135 - accuracy: 0.9157\n",
      "Epoch 3/4\n",
      "49/49 [==============================] - 1s 19ms/step - loss: 0.1688 - accuracy: 0.9372\n",
      "Epoch 4/4\n",
      "49/49 [==============================] - 1s 19ms/step - loss: 0.1366 - accuracy: 0.9516\n",
      "-----\n"
     ]
    }
   ],
   "source": [
    "#Retraining a model from scratch, to see what it looks like to prevent overtraining\n",
    "model = models.Sequential()\n",
    "model.add(layers.Dense(32, activation='tanh', input_shape=(10000,)))\n",
    "model.add(layers.Dense(32, activation='tanh'))\n",
    "model.add(layers.Dense(32, activation='tanh'))\n",
    "model.add(layers.Dense(1, activation='sigmoid'))\n",
    "\n",
    "model.compile(optimizer='rmsprop',\n",
    "              loss='binary_crossentropy',\n",
    "              metrics=['accuracy'])\n",
    "model.fit(x_train, y_train, epochs=4, batch_size=512)\n",
    "print('-----')\n",
    "results = model.evaluate(x_test, y_test)\n",
    "print('\\nResults:', results)"
   ]
  },
  {
   "cell_type": "code",
   "execution_count": null,
   "id": "detailed-contrast",
   "metadata": {},
   "outputs": [],
   "source": []
  }
 ],
 "metadata": {
  "kernelspec": {
   "display_name": "Python 3",
   "language": "python",
   "name": "python3"
  },
  "language_info": {
   "codemirror_mode": {
    "name": "ipython",
    "version": 3
   },
   "file_extension": ".py",
   "mimetype": "text/x-python",
   "name": "python",
   "nbconvert_exporter": "python",
   "pygments_lexer": "ipython3",
   "version": "3.8.8"
  }
 },
 "nbformat": 4,
 "nbformat_minor": 5
}
