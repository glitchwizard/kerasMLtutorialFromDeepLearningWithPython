{
 "cells": [
  {
   "cell_type": "markdown",
   "id": "modern-wholesale",
   "metadata": {},
   "source": [
    "# IMDB dataset from Deep Learning with Python (Manning book)\n",
    "\n",
    "This is learning Keras directly taking the IMDB data set from keras, and sorting it out in various ways.\n",
    "\n",
    "First we may need to set it up to possibly switch from GPU to CPU, I ran into a problem where my GPU ran out of memory sometimes, so switching to CPU isn't ideal, but it's better than no compute at all.\n",
    "   "
   ]
  },
  {
   "cell_type": "code",
   "execution_count": 1,
   "id": "efficient-locking",
   "metadata": {},
   "outputs": [],
   "source": [
    "# Uncomment below this line if you need to turn on CPU. Comment it out again if you want GPU\n",
    "# import os\n",
    "# os.environ[\"CUDA_DEVICE_ORDER\"] = \"PCI_BUS_ID\"   # see issue #152\n",
    "# os.environ[\"CUDA_VISIBLE_DEVICES\"] = \"-1\""
   ]
  },
  {
   "cell_type": "markdown",
   "id": "humanitarian-egypt",
   "metadata": {},
   "source": [
    "## Loading IMDB dataset \n",
    "\n",
    "First we have to load the IMDB data set from the keras library. If we want to see the actual words, uncomment and print out the second section in the code below."
   ]
  },
  {
   "cell_type": "code",
   "execution_count": 2,
   "id": "familiar-immune",
   "metadata": {},
   "outputs": [
    {
     "name": "stderr",
     "output_type": "stream",
     "text": [
      "<__array_function__ internals>:5: VisibleDeprecationWarning: Creating an ndarray from ragged nested sequences (which is a list-or-tuple of lists-or-tuples-or ndarrays with different lengths or shapes) is deprecated. If you meant to do this, you must specify 'dtype=object' when creating the ndarray\n",
      "c:\\users\\hobbes\\source\\repos\\kerasmltutorialfromdeeplearningwithpython\\venv\\lib\\site-packages\\tensorflow\\python\\keras\\datasets\\imdb.py:159: VisibleDeprecationWarning: Creating an ndarray from ragged nested sequences (which is a list-or-tuple of lists-or-tuples-or ndarrays with different lengths or shapes) is deprecated. If you meant to do this, you must specify 'dtype=object' when creating the ndarray\n",
      "  x_train, y_train = np.array(xs[:idx]), np.array(labels[:idx])\n",
      "c:\\users\\hobbes\\source\\repos\\kerasmltutorialfromdeeplearningwithpython\\venv\\lib\\site-packages\\tensorflow\\python\\keras\\datasets\\imdb.py:160: VisibleDeprecationWarning: Creating an ndarray from ragged nested sequences (which is a list-or-tuple of lists-or-tuples-or ndarrays with different lengths or shapes) is deprecated. If you meant to do this, you must specify 'dtype=object' when creating the ndarray\n",
      "  x_test, y_test = np.array(xs[idx:]), np.array(labels[idx:])\n"
     ]
    }
   ],
   "source": [
    "# load IMDB dataset in keras\n",
    "from keras.datasets import imdb\n",
    "\n",
    "(train_data, train_labels), (test_data, test_labels) = imdb.load_data(num_words=10000)\n",
    "\n",
    "# if we want to see what the actual words are, uncomment this and use this code\n",
    "# word_index = imdb.get_word_index()\n",
    "# reverse_word_index = dict([(value, key) for (key,value) in word_index.items()])\n",
    "# decoded_review = ' '.join(reverse_word_index.get(i - 3, '?') for i in train_data[0])"
   ]
  },
  {
   "cell_type": "markdown",
   "id": "referenced-johns",
   "metadata": {},
   "source": [
    "## Prepping the data\n",
    "\n",
    "There are a few ways to prep the data, because each word is turned into an integer value it can be represented a few ways, for this example we're going to encode the integer sequences into a binary matrix. The location on the matrix, if it's on or off, will represent the word, or words."
   ]
  },
  {
   "cell_type": "code",
   "execution_count": 3,
   "id": "tutorial-annex",
   "metadata": {},
   "outputs": [],
   "source": [
    "# Encode the integer sequences into a binary matrix\n",
    "import numpy as np\n",
    "\n",
    "\n",
    "def vectorize_sequences(sequences, dimension=10000):\n",
    "    results = np.zeros((len(sequences), dimension))\n",
    "    for i, sequence in enumerate(sequences):\n",
    "        results[i, sequence] = 1.\n",
    "    return results\n",
    "\n",
    "\n",
    "x_train = vectorize_sequences(train_data)\n",
    "x_test = vectorize_sequences(test_data)\n",
    "\n",
    "y_train = np.asarray(train_labels).astype('float32')\n",
    "y_test = np.asarray(test_labels).astype('float32')"
   ]
  },
  {
   "cell_type": "markdown",
   "id": "pressed-employer",
   "metadata": {},
   "source": [
    "## Define the model by setting up the layers\n",
    "\n",
    "For now we'll use .Sequential(), but we can dig in later to more detailed settings using the functional API. Just as an example, here's what these same layers would look like using the functional API: \n",
    "\n",
    "```\n",
    "input_tensor = layers.Input(shape=(784,))\n",
    "x = layers.Dense(32, activation='relu')(input_tensor)\n",
    "output_tensor = layers.Dense(10, activation='softmax')(x)\n",
    "\n",
    "model = models.Model(inputs=input_tensor, outputs=output_tensor)\n",
    "```"
   ]
  },
  {
   "cell_type": "code",
   "execution_count": 4,
   "id": "comic-carpet",
   "metadata": {},
   "outputs": [],
   "source": [
    "from keras import models\n",
    "from keras import layers\n",
    "\n",
    "# Define the model by setting up the layers,\n",
    "model = models.Sequential()\n",
    "model.add(layers.Dense(16, activation='relu', input_shape=(10000,)))\n",
    "model.add(layers.Dense(16, activation='relu'))\n",
    "model.add(layers.Dense(1, activation='sigmoid'))"
   ]
  },
  {
   "cell_type": "markdown",
   "id": "designing-voice",
   "metadata": {},
   "source": [
    "## Compile the model, and configure the optimizer\n",
    "\n",
    "Something to note here, the configurations shown below are only if we want to actually dig in to the settings for things like `optimizer`, `loss`, or `metrics`. If we want to use default settings, just use strings like so: \n",
    "```\n",
    "model.compile(optimizer='rmsprop',\n",
    "              loss='binary_crossentropy',\n",
    "              metrics=['accuracy'])\n",
    "```"
   ]
  },
  {
   "cell_type": "code",
   "execution_count": 5,
   "id": "aggregate-hollywood",
   "metadata": {},
   "outputs": [],
   "source": [
    "from keras import optimizers, losses, metrics\n",
    "\n",
    "model.compile(optimizer=optimizers.RMSprop(lr=0.001),\n",
    "              loss=losses.binary_crossentropy,\n",
    "              metrics=[metrics.binary_accuracy])"
   ]
  },
  {
   "cell_type": "markdown",
   "id": "documentary-norfolk",
   "metadata": {},
   "source": [
    "## Training Validation\n",
    "\n",
    "Ok so here's something I still need to dig more into, validating the training. Basically you set aside a small portion of your training data to use as validation that the trainin was actually worth anything. The interesting thing though is that this can lead of overoptimization. We'll get more into that in a later section though, but sometimes too many epochs, or certain settings can wind up detrimental to the expected outcome.\n",
    "\n",
    "In the code below we're going to set aside 10,000 samples for validation"
   ]
  },
  {
   "cell_type": "code",
   "execution_count": 6,
   "id": "plastic-judgment",
   "metadata": {},
   "outputs": [
    {
     "name": "stdout",
     "output_type": "stream",
     "text": [
      "Epoch 1/20\n",
      "30/30 [==============================] - 4s 79ms/step - loss: 0.5948 - binary_accuracy: 0.6805 - val_loss: 0.3849 - val_binary_accuracy: 0.8619\n",
      "Epoch 2/20\n",
      "30/30 [==============================] - 1s 28ms/step - loss: 0.3188 - binary_accuracy: 0.8996 - val_loss: 0.3063 - val_binary_accuracy: 0.8886\n",
      "Epoch 3/20\n",
      "30/30 [==============================] - 1s 28ms/step - loss: 0.2277 - binary_accuracy: 0.9254 - val_loss: 0.2779 - val_binary_accuracy: 0.8916\n",
      "Epoch 4/20\n",
      "30/30 [==============================] - 1s 27ms/step - loss: 0.1753 - binary_accuracy: 0.9472 - val_loss: 0.2734 - val_binary_accuracy: 0.8903\n",
      "Epoch 5/20\n",
      "30/30 [==============================] - 1s 28ms/step - loss: 0.1343 - binary_accuracy: 0.9612 - val_loss: 0.2806 - val_binary_accuracy: 0.8891\n",
      "Epoch 6/20\n",
      "30/30 [==============================] - 1s 29ms/step - loss: 0.1093 - binary_accuracy: 0.9701 - val_loss: 0.3878 - val_binary_accuracy: 0.8570\n",
      "Epoch 7/20\n",
      "30/30 [==============================] - 1s 27ms/step - loss: 0.1005 - binary_accuracy: 0.9678 - val_loss: 0.3187 - val_binary_accuracy: 0.8814\n",
      "Epoch 8/20\n",
      "30/30 [==============================] - 1s 28ms/step - loss: 0.0790 - binary_accuracy: 0.9791 - val_loss: 0.3324 - val_binary_accuracy: 0.8805\n",
      "Epoch 9/20\n",
      "30/30 [==============================] - 1s 28ms/step - loss: 0.0606 - binary_accuracy: 0.9862 - val_loss: 0.3566 - val_binary_accuracy: 0.8795\n",
      "Epoch 10/20\n",
      "30/30 [==============================] - 1s 28ms/step - loss: 0.0532 - binary_accuracy: 0.9873 - val_loss: 0.3894 - val_binary_accuracy: 0.8750\n",
      "Epoch 11/20\n",
      "30/30 [==============================] - 1s 27ms/step - loss: 0.0422 - binary_accuracy: 0.9926 - val_loss: 0.4104 - val_binary_accuracy: 0.8753\n",
      "Epoch 12/20\n",
      "30/30 [==============================] - 1s 28ms/step - loss: 0.0326 - binary_accuracy: 0.9942 - val_loss: 0.4467 - val_binary_accuracy: 0.8716\n",
      "Epoch 13/20\n",
      "30/30 [==============================] - 1s 28ms/step - loss: 0.0271 - binary_accuracy: 0.9947 - val_loss: 0.4685 - val_binary_accuracy: 0.8712\n",
      "Epoch 14/20\n",
      "30/30 [==============================] - 1s 28ms/step - loss: 0.0208 - binary_accuracy: 0.9970 - val_loss: 0.5096 - val_binary_accuracy: 0.8711\n",
      "Epoch 15/20\n",
      "30/30 [==============================] - 1s 29ms/step - loss: 0.0140 - binary_accuracy: 0.9988 - val_loss: 0.5393 - val_binary_accuracy: 0.8685\n",
      "Epoch 16/20\n",
      "30/30 [==============================] - 1s 28ms/step - loss: 0.0107 - binary_accuracy: 0.9992 - val_loss: 0.5646 - val_binary_accuracy: 0.8685\n",
      "Epoch 17/20\n",
      "30/30 [==============================] - 1s 27ms/step - loss: 0.0084 - binary_accuracy: 0.9995 - val_loss: 0.6047 - val_binary_accuracy: 0.8662\n",
      "Epoch 18/20\n",
      "30/30 [==============================] - 1s 27ms/step - loss: 0.0082 - binary_accuracy: 0.9992 - val_loss: 0.6328 - val_binary_accuracy: 0.8680\n",
      "Epoch 19/20\n",
      "30/30 [==============================] - 1s 29ms/step - loss: 0.0048 - binary_accuracy: 0.9998 - val_loss: 0.6755 - val_binary_accuracy: 0.8655\n",
      "Epoch 20/20\n",
      "30/30 [==============================] - 1s 27ms/step - loss: 0.0057 - binary_accuracy: 0.9989 - val_loss: 0.7065 - val_binary_accuracy: 0.8646\n",
      "\n",
      "History Dictionary Keys: dict_keys(['loss', 'binary_accuracy', 'val_loss', 'val_binary_accuracy']) \n",
      "\n"
     ]
    }
   ],
   "source": [
    "# Set aside samples for monitoring accuracy\n",
    "x_val = x_train[:10000]\n",
    "partial_x_train = x_train[10000:]\n",
    "y_val = y_train[:10000]\n",
    "partial_y_train = y_train[10000:]\n",
    "\n",
    "history = model.fit(partial_x_train,\n",
    "                    partial_y_train,\n",
    "                    epochs=20,\n",
    "                    batch_size=512,\n",
    "                    validation_data=(x_val, y_val)\n",
    "                    )\n",
    "\n",
    "history_dict = history.history\n",
    "print('\\nHistory Dictionary Keys:', history_dict.keys(), '\\n')"
   ]
  },
  {
   "cell_type": "markdown",
   "id": "hearing-flood",
   "metadata": {},
   "source": [
    "## Plot the training and validation loss\n",
    "\n",
    "Just so we can get a visual sense of what's actually happening with our training model, let's plot it's loss per epoch over time. "
   ]
  },
  {
   "cell_type": "code",
   "execution_count": 7,
   "id": "common-street",
   "metadata": {},
   "outputs": [
    {
     "data": {
      "image/png": "[encoded data removed]",
      "text/plain": [
       "<Figure size 432x288 with 1 Axes>"
      ]
     },
     "metadata": {
      "needs_background": "light"
     },
     "output_type": "display_data"
    }
   ],
   "source": [
    "# Plotting the training and validation loss\n",
    "import matplotlib.pyplot as plt\n",
    "\n",
    "loss_values = history_dict['loss']\n",
    "val_loss_values = history_dict['val_loss']\n",
    "\n",
    "epochs = range(1, len(history_dict['binary_accuracy']) + 1)\n",
    "\n",
    "plt.plot(epochs, loss_values, 'bo', label='Training Loss')\n",
    "plt.plot(epochs, val_loss_values, 'b', label='Validation Loss')\n",
    "plt.title('Training and Validation loss')\n",
    "plt.xlabel('Epochs')\n",
    "plt.ylabel('Loss')\n",
    "plt.legend()\n",
    "\n",
    "plt.show()"
   ]
  },
  {
   "cell_type": "markdown",
   "id": "intensive-volleyball",
   "metadata": {},
   "source": [
    "## Plot the training and validation accuracy\n",
    "\n",
    "This is where we'll actually see the problem of overoptimizing, giving us less accuracy as the model continues to 'learn'"
   ]
  },
  {
   "cell_type": "code",
   "execution_count": 8,
   "id": "third-belarus",
   "metadata": {},
   "outputs": [
    {
     "data": {
      "image/png": "[encoded data removed]",
      "text/plain": [
       "<Figure size 432x288 with 1 Axes>"
      ]
     },
     "metadata": {
      "needs_background": "light"
     },
     "output_type": "display_data"
    }
   ],
   "source": [
    "# Plotting the training and validation accuracy\n",
    "plt.clf()\n",
    "acc_values = history_dict['binary_accuracy']\n",
    "val_acc_values = history_dict['val_binary_accuracy']\n",
    "plt.plot(epochs, acc_values, 'bo', label='Training Accuracy')\n",
    "plt.plot(epochs, val_acc_values, 'b', label='Validation Accuracy')\n",
    "plt.xlabel('Epochs')\n",
    "plt.ylabel('Accuracy')\n",
    "plt.legend()\n",
    "\n",
    "plt.show()"
   ]
  },
  {
   "cell_type": "markdown",
   "id": "prescribed-amount",
   "metadata": {},
   "source": [
    "## Preventing Overoptimization\n",
    "\n",
    "Because we see a loss in accuracy around the 4th epoch, we'll stop the training at that point so we maximize the optimization. Also as an experiment, we can add layers and mess with the hidden unit settings as well. The original settings are:\n",
    "```\n",
    "#Retraining a model from scratch, to see what it looks like to prevent overtraining\n",
    "model = models.Sequential()\n",
    "model.add(layers.Dense(16, activation='relu', input_shape=(10000,)))\n",
    "model.add(layers.Dense(16, activation='relu'))\n",
    "model.add(layers.Dense(1, activation='sigmoid'))\n",
    "\n",
    "model.compile(optimizer='rmsprop',\n",
    "              loss='binary_crossentropy',\n",
    "              metrics=['accuracy'])\n",
    "\n",
    "model.fit(x_train, y_train, epochs=4, batch_size=512)\n",
    "results = model.evaluate(x_test, y_test)\n",
    "print('\\nResults:', results)\n",
    "```\n",
    "\n",
    "Below might look different, just trying out different settings to get a feel for how optimization is affected. \n",
    "\n",
    "This may be adding more layers, tweaking the hidden units, using different optimizers or activations."
   ]
  },
  {
   "cell_type": "code",
   "execution_count": 9,
   "id": "heavy-index",
   "metadata": {},
   "outputs": [
    {
     "name": "stdout",
     "output_type": "stream",
     "text": [
      "Epoch 1/4\n",
      "49/49 [==============================] - 2s 18ms/step - loss: 0.6512 - accuracy: 0.6050\n",
      "Epoch 2/4\n",
      "49/49 [==============================] - 1s 19ms/step - loss: 0.5391 - accuracy: 0.8023\n",
      "Epoch 3/4\n",
      "49/49 [==============================] - 1s 18ms/step - loss: 0.4720 - accuracy: 0.8681\n",
      "Epoch 4/4\n",
      "49/49 [==============================] - 1s 18ms/step - loss: 0.4001 - accuracy: 0.8995\n",
      "-----\n",
      "782/782 [==============================] - 4s 5ms/step - loss: 0.3506 - accuracy: 0.8843\n",
      "\n",
      "Results: [0.3505655825138092, 0.8843200206756592]\n"
     ]
    }
   ],
   "source": [
    "#Retraining a model from scratch, to see what it looks like to prevent overtraining\n",
    "model = models.Sequential()\n",
    "model.add(layers.Dense(4, activation='relu', input_shape=(10000,)))\n",
    "model.add(layers.Dense(4, activation='relu'))\n",
    "model.add(layers.Dense(4, activation='relu'))\n",
    "model.add(layers.Dense(1, activation='sigmoid'))\n",
    "\n",
    "model.compile(optimizer='rmsprop',\n",
    "              loss='binary_crossentropy',\n",
    "              metrics=['accuracy'])\n",
    "model.fit(x_train, y_train, epochs=4, batch_size=512)\n",
    "print('-----')\n",
    "results = model.evaluate(x_test, y_test)\n",
    "print('\\nResults:', results)"
   ]
  }
 ],
 "metadata": {
  "kernelspec": {
   "display_name": "Python 3",
   "language": "python",
   "name": "python3"
  },
  "language_info": {
   "codemirror_mode": {
    "name": "ipython",
    "version": 3
   },
   "file_extension": ".py",
   "mimetype": "text/x-python",
   "name": "python",
   "nbconvert_exporter": "python",
   "pygments_lexer": "ipython3",
   "version": "3.8.8"
  }
 },
 "nbformat": 4,
 "nbformat_minor": 5
}
